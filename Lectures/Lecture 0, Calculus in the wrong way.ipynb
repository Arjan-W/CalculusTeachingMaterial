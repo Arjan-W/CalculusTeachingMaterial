{
 "cells": [
  {
   "cell_type": "code",
   "execution_count": 1,
   "metadata": {},
   "outputs": [],
   "source": [
    "import numpy as np\n",
    "import matplotlib.pyplot as plt"
   ]
  },
  {
   "cell_type": "markdown",
   "metadata": {},
   "source": [
    "## Discrete Calculus\n",
    "\n",
    "Calculus is the mathematics of the infinitly small and infinitely big. Conversely, discrete calculus only deals with finite quantities. nevertheless, most of the rules and procedures of discrete caclulus are either similar or identical to the rules of regular caclulus. \n",
    "\n",
    "### Discrete functions\n",
    "\n",
    "The object of study of discrete caclulus are discrete functions. A discrete function is a rule that assigns a numeric value for a finite number of integers.\n",
    "\n",
    "For example, consider the set of integers $\\{0,1,2,3,4\\}$. We can defini the following discrete function:\n",
    "\n",
    "$$\n",
    "f(n) = n^2~.\n",
    "$$\n",
    "\n",
    "We can enumerate all possible values of this discrete square function:\n",
    "\n",
    "$$\n",
    "f(0) = 0, \n",
    "$$\n",
    "$$\n",
    "f(1) = 1, \n",
    "$$\n",
    "$$\n",
    "f(2) = 4, \n",
    "$$\n",
    "$$\n",
    "f(3) = 9, \n",
    "$$\n",
    "$$\n",
    "f(4) = 16.\n",
    "$$\n",
    "\n",
    "A discrete function can be graphed as a staircase with as many steps as the number of values. This visualization is shown in the next Python block."
   ]
  },
  {
   "cell_type": "code",
   "execution_count": 38,
   "metadata": {},
   "outputs": [
    {
     "data": {
      "text/plain": [
       "Text(0.5,1,'Discrete function')"
      ]
     },
     "execution_count": 38,
     "metadata": {},
     "output_type": "execute_result"
    },
    {
     "data": {
      "image/png": "[encoded data removed]",
      "text/plain": [
       "<Figure size 432x288 with 1 Axes>"
      ]
     },
     "metadata": {
      "needs_background": "light"
     },
     "output_type": "display_data"
    }
   ],
   "source": [
    "def discrete_square(x, N, dx):\n",
    "    for n in range(N):\n",
    "        if n*dx <= x < (n+1)*dx:\n",
    "            return (n*dx)**2\n",
    "\n",
    "N = 5\n",
    "L = 5\n",
    "dx = L/N\n",
    "n_range = range(0,N)\n",
    "x_range = np.linspace(0,L,100*N)\n",
    "\n",
    "f_x = [discrete_square(x, N, dx) for x in x_range]\n",
    "plt.plot(x_range, f_x, c=\"k\")\n",
    "plt.ylim(0,L**2)\n",
    "plt.xlim(0,L)\n",
    "plt.title(\"Discrete function\")"
   ]
  },
  {
   "cell_type": "markdown",
   "metadata": {},
   "source": [
    "### The area under a discrete function: The discrete integral\n"
   ]
  },
  {
   "cell_type": "markdown",
   "metadata": {},
   "source": [
    "It is often interesting to compute the area under a curve. In discrete caclulus, we deal with areas under our steircase \"curves\". The area under our discrete function is shown in blue the following python block:"
   ]
  },
  {
   "cell_type": "code",
   "execution_count": 37,
   "metadata": {},
   "outputs": [
    {
     "data": {
      "text/plain": [
       "Text(0.5,1,'Discrete integral: Area under a discrete function')"
      ]
     },
     "execution_count": 37,
     "metadata": {},
     "output_type": "execute_result"
    },
    {
     "data": {
      "image/png": "[encoded data removed]",
      "text/plain": [
       "<Figure size 432x288 with 1 Axes>"
      ]
     },
     "metadata": {
      "needs_background": "light"
     },
     "output_type": "display_data"
    }
   ],
   "source": [
    "plt.plot(x_range[:-1], f_x[:-1], c=\"k\")\n",
    "plt.fill_between(x_range[:-1], -1, f_x[:-1])\n",
    "plt.ylim(0,L**2)\n",
    "plt.xlim(0,L)\n",
    "plt.title(\"Discrete integral: Area under a discrete function\")"
   ]
  },
  {
   "cell_type": "markdown",
   "metadata": {},
   "source": [
    "We just need some basic geometry to get a formula for the area. As you can see in the graph, the figure can be subdivided into non-overlapping rectangles. therefore, the area under the curve is equal to the sum of the area of all these rectangles:\n",
    "\n",
    "$$\n",
    "A = \\sum_{n=0}^4 A_n~.\n",
    "$$\n",
    "\n",
    "where $A_n$ denotes the area of the rectangle with $x$ coordinate ranging from $n$ to $n+1$. The area of the $n-th$ triangle is obtained by multyplying its base with its hight:\n",
    "\n",
    "$$\n",
    "A_n = \\underbrace{f(n)}_\\text{height} \\cdot \\underbrace{\\Delta x}_\\text{base} ~.\n",
    "$$\n",
    "\n",
    "where in our current case $\\Delta x$ is equal to $1$.\n",
    "\n",
    "Therefore, the formula for the area is:\n",
    "\n",
    "$$\n",
    "A = \\sum_{n=0}^4 f(n) \\Delta x\n",
    "$$\n",
    "\n",
    "We call this formula the DISCRETE INTEGRAL of the function.\n",
    "\n",
    "The following block of python code computes the discrete integral of the function:"
   ]
  },
  {
   "cell_type": "code",
   "execution_count": 39,
   "metadata": {},
   "outputs": [
    {
     "name": "stdout",
     "output_type": "stream",
     "text": [
      "the value of the discrete integral is: 30\n"
     ]
    }
   ],
   "source": [
    "Dx = 1\n",
    "range_n = range(5)\n",
    "f = lambda n: n**2\n",
    "\n",
    "def discrete_integral(f, range_n, Dx):\n",
    "    return sum([f(n)*Dx for n in range_n])\n",
    "\n",
    "print(\"the value of the discrete integral is: {}\".format(discrete_integral(f, range_n, Dx)))"
   ]
  },
  {
   "cell_type": "markdown",
   "metadata": {},
   "source": [
    "### Finite differences\n",
    "\n",
    "Calculus is the study of change. In the case of discrete caclulus, we can characterize changes in a discrete functions using finite differences. As we saw in the previous section, we denote a finite difference in the $x$ coordinate as $ \\Delta x $.\n",
    "\n",
    "Similarly, we denote $\\Delta f(x_n)$ as the difference between $f(n+1)$ and $f(n)$. We can wrete this as follows:\n",
    "\n",
    "$$\n",
    "\\Delta f(x_n) = f(x_n + \\Delta x) - f(x_n)\n",
    "$$\n",
    "\n",
    "where $x_n$ is the $x$ coordinate equal to $n \\cdot \\Delta x$ (which is equal to $n$ in our case as $\\Delta x$ is equal to 1.).\n",
    "\n",
    "#### Example\n",
    "\n",
    "Consider the finite difference of the function:\n",
    "\n",
    "$$\n",
    "f(x_n) = x_n^2\n",
    "$$\n",
    "\n",
    "Using the definition:\n",
    "\n",
    "$$\n",
    "\\Delta f(x_n) = f(x_n + \\Delta x) - f(x_n)~.\n",
    "$$\n",
    "\n",
    "We know that $x_n = n \\Delta x$, therefore:\n",
    "\n",
    "$$\n",
    "\\begin{aligned}\n",
    "\\Delta f(x_n) &= f((n+1) \\Delta x) - f(x_n) = (n+1)^2 (\\Delta x)^2 - (\\Delta x)^2 n^2 \\\\\n",
    "              &= (n^2 + 2n + 1) (\\Delta x)^2 - (\\Delta x)^2 n^2 \\\\\n",
    "              &= (2n + 1) (\\Delta x)^2\n",
    "\\end{aligned}\n",
    "$$\n",
    "\n",
    "#### Exercises\n",
    "1) Compute the finite differences of the following discrete functions defined for the integers $0, 1, 2, 3, 4$:\n",
    "\n",
    "- $f_1(x_n) = x_n$\n",
    "- $f_2(x_n) = 3 x_n^3$\n",
    "- $f_3(x_n) = 2 x_n^2 + 4 x_n$\n",
    "\n",
    "2) (Hard) Find a general formula for the finite differences of a function of the following form:\n",
    "$$\n",
    "f(x_n) = a ~ x_n^k\n",
    "$$\n",
    "where both $a$ and $k$ are positive integers.\n",
    "\n",
    "#### Product rule for finite differences\n",
    "we can now derive a product rule for finite differences. The goal is to have a formula relating the finite differences of two discrete function $f(x_n)$ and $g(x_n)$ and the funite difference of their product $f(x_n) \\cdot g(x_n)$. We can derive this formula by writing down the definituion of the finite difference of the product and using the definitions again individually for $f$ and $g$:\n",
    "\n",
    "\\begin{aligned}\n",
    "    \\Delta(f(x_n) g(x_n)) &= \\color{blue}{f(x_n + \\Delta x)} \\color{red}{g(x_n + \\Delta x)} - f(x_n)g(x_n) \\\\\n",
    "                          &= \\color{blue}{\\left( f(x_n) + \\Delta f(x_n) \\right)} \\color{red}{\\left( g(x_n) + \\Delta g(x_n) \\right)} - f(x_n)g(x_n) \\\\\n",
    "                          &= f(x_n) \\Delta g(x_n) + g(x_n) \\Delta f(x_n) + \\Delta f(x_n) \\Delta g(x_n)\n",
    "\\end{aligned}\n",
    "\n",
    "#### Example\n",
    "\n",
    "the function:\n",
    "\n",
    "$$\n",
    "f_p(n) = n^2\n",
    "$$\n",
    "\n",
    "is the product of $f(n) = n$ with itself. Therefore:\n",
    "\n",
    "$$\n",
    "\\begin{aligned}\n",
    "\\Delta f_p(x_n) &= \\Delta (f(x_n) f(x_n) ) \\\\\n",
    "                &= f(x_n) \\Delta f(x_n) + f(x_n) \\Delta f(x_n) + (\\Delta f(x_n))(\\Delta f(x_n))\n",
    "                &= 2 f(x_n) \\Delta f(x_n) + (\\Delta f(x_n))^2 \\\\\n",
    "                &= 2 (\\Delta x_n) (\\Delta x n) + (\\Delta x )^2 \\\\\n",
    "                & = (\\Delta x)^2 (2 n + 1)\n",
    "\\end{aligned}\n",
    "$$\n",
    "\n",
    "since $\\Delta f(x_n) = \\Delta x$.\n",
    "\n",
    "#### Exercises\n",
    "\n",
    "Compute the discrete derivative of $f(n) = n^3$ using the product rule.\n",
    "\n",
    "### The discrete derivative\n",
    "\n",
    "The discrete derivative capture the \"discrete rate of change\" of a discrete function. It is defined as the ration between its finite difference and the finite difference in the $x$ coordinates:\n",
    "\n",
    "$$\n",
    "\\frac{\\Delta f}{\\Delta x} = \\frac{f(x_n + \\Delta x) - f(x_n)}{\\Delta x}\n",
    "$$\n",
    "\n",
    "#### Example\n",
    "\n",
    "the product rule for the discrete function $f(x_n) = x_n^2$ can be obtained simply by deviding its finite difference by $\\Delta x$:\n",
    "\n",
    "$$\n",
    "\\frac{\\Delta x_n^2}{\\Delta x} = \\frac{(\\Delta x)^2 (2n + 1)}{\\Delta x} = (2n + 1) ~\\Delta x\n",
    "$$\n",
    "\n",
    "#### Exercises\n",
    "Compute the discrete derivatives of the following discrete functions:\n",
    "\n",
    "- $f_1(x_n) = 3 x_n$\n",
    "- $f_2(x_n) = 2 x_n^2 + x_n^3$\n",
    "- $f_3(x_n) = 2 x_n^2 + 4 x_n$\n",
    "\n",
    "#### Product rule for discrete derivatives\n",
    "\n",
    "The product rule for discrete derivatives can be obtained by deviding the product rule for finite differences by $\\Delta x$:\n",
    "\n",
    "$$\n",
    "\\begin{aligned}\n",
    "\\frac{\\Delta (f(x_n) \\cdot g(x_n))}{\\Delta x} &= \\frac{f(x_n) \\Delta g(x_n) + g(x_n) \\Delta f(x_n) + (\\Delta f(x_n)) (\\Delta g(x_n))}{{\\Delta x}} \\\\\n",
    "&= f(x_n) \\frac{\\Delta g(x_n)}{\\Delta x} + g(x_n) \\frac{\\Delta f(x_n)}{\\Delta x} + \\frac{\\Delta f(x_n)}{\\Delta x} \\frac{\\Delta g(x_n)}{\\Delta x} \\Delta x\n",
    "\\end{aligned}\n",
    "$$\n",
    "\n",
    "nota that if we reduce the spacing between the discrete points so that $\\Delta x \\approx 0$, then the product rule can be approximated as follows:\n",
    "\n",
    "$$\n",
    "\\frac{\\Delta (f(x_n) \\cdot g(x_n))}{\\Delta x} \\approx f(x_n) \\frac{\\Delta g(x_n)}{\\Delta x} + g(x_n) \\frac{\\Delta f(x_n)}{\\Delta x}\n",
    "$$\n",
    "\n",
    "since the last term becomes smaller and smaller.\n",
    "\n",
    "### The discrete integral\n",
    "\n",
    "As we explained in the previous section, we can define discrete integrals as follows:\n",
    "\n",
    "$$\n",
    "\\sum_{n=0}^N f(x_n) \\Delta x\n",
    "$$\n",
    "\n",
    "We can also take the discrete integral of a discrete function $f(x_n)$ with respect to the finite difference of another discrete function $g(x_n)$:\n",
    "\n",
    "$$\n",
    "\\sum_{n=0}^N f(x_n) \\Delta g(x_n) = \\sum_{n=0}^N f(x_n) (g(x_{n + 1}) - g(x_n))\n",
    "$$\n",
    "\n",
    "the previous definition is a special case of this with $g(x_n) = x_n$ (Exercise: derive this!).\n",
    "\n",
    "#### Discrete integral of a finite difference\n",
    "Consider the following discrete integral:\n",
    "\n",
    "$$\n",
    "\\sum_{n=0}^N \\Delta g(x_n) = \\sum_{n=0}^N (g(x_{n + 1}) - g(x_n))~.\n",
    "$$\n",
    "\n",
    "this sum has a very nice property. it is called telescopic sum, its terms with plus and minus sign pair up exactly so that only the first and the last survive!\n",
    "\n",
    "$$\n",
    "\\begin{aligned}\n",
    "\\sum_{n=0}^N (g(x_{n + 1}) - g(x_n)) &= (\\color{red}{g(x_1)} - g(x_0)) + (\\color{green}{g(x_2)} \\color{red}{- g(x_1)}) + (\\color{blue}{g(x_3)} \\color{green}{- g(x_2)})~ + ... +~ (g(x_N) - \\color{purple}{g(x_{N-1})})\\\\\n",
    "&= -g(x_0) + (\\color{red}{g(x_1) - g(x_1)})~ + ... +~ (\\color{purple}{g(x_{N-1}) - g(x_{N-1})}) + g(x_N)\\\\\n",
    "&= -g(x_0) + \\color{red}{0}~ + ... +~ \\color{purple}{0} + g(x_N)\\\\\n",
    "&= g(x_N) - g(x_0)\n",
    "\\end{aligned}\n",
    "$$\n",
    "\n",
    "Therefore:\n",
    "\n",
    "$$\n",
    "\\sum_{n=0}^N \\Delta g(x_n) = g(x_N) - g(x_0)~.\n",
    "$$\n",
    "\n",
    "In words, the integral of a finite difference is equal of the total difference of its function.\n",
    "\n",
    "### Connecting discrete integrals and discrete derivatives: The foundamental theorem of discrete calculus\n",
    "\n",
    "$$\n",
    "\\sum_{n=0}^N \\frac{\\Delta f}{\\Delta x} \\Delta x = \\sum_{n=0}^N \\Delta f(x_n) = \n",
    "$$"
   ]
  },
  {
   "cell_type": "markdown",
   "metadata": {},
   "source": [
    "## Calculus in the wrong way\n",
    "\n",
    "### From finite differences to differentials\n",
    "\n",
    "#### those spooky infinitesimals\n",
    "\n",
    "### The discrete integral\n",
    "\n",
    "### Finite differences: the discrete derivative\n",
    "\n",
    "### Connecting integrals and derivatives: The foundamental theorem of calculus"
   ]
  },
  {
   "cell_type": "code",
   "execution_count": null,
   "metadata": {},
   "outputs": [],
   "source": []
  }
 ],
 "metadata": {
  "kernelspec": {
   "display_name": "Python 3",
   "language": "python",
   "name": "python3"
  },
  "language_info": {
   "codemirror_mode": {
    "name": "ipython",
    "version": 3
   },
   "file_extension": ".py",
   "mimetype": "text/x-python",
   "name": "python",
   "nbconvert_exporter": "python",
   "pygments_lexer": "ipython3",
   "version": "3.7.0"
  }
 },
 "nbformat": 4,
 "nbformat_minor": 2
}
