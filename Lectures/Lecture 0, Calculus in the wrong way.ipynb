{
 "cells": [
  {
   "cell_type": "code",
   "execution_count": 1,
   "metadata": {},
   "outputs": [],
   "source": [
    "import numpy as np\n",
    "import matplotlib.pyplot as plt"
   ]
  },
  {
   "cell_type": "markdown",
   "metadata": {},
   "source": [
    "## Discrete Calculus\n",
    "\n",
    "Calculus is the mathematics of the infinitly small and infinitely big. Conversely, discrete calculus only deals with finite quantities. nevertheless, most of the rules and procedures of discrete caclulus are either similar or identical to the rules of regular caclulus. \n",
    "\n",
    "### Discrete functions\n",
    "\n",
    "The object of study of discrete caclulus are discrete functions. A discrete function is a rule that assigns a numeric value for a finite number of integers.\n",
    "\n",
    "For example, consider the set of integers $\\{0,1,2,3,4\\}$. We can defini the following discrete function:\n",
    "\n",
    "$$\n",
    "f(n) = n^2\n",
    "$$\n",
    "\n",
    "We can enumerate all possible values of this discrete square function:\n",
    "\n",
    "$$\n",
    "f(0) = 0, \n",
    "$$\n",
    "$$\n",
    "f(1) = 1, \n",
    "$$\n",
    "$$\n",
    "f(2) = 4, \n",
    "$$\n",
    "$$\n",
    "f(3) = 9, \n",
    "$$\n",
    "$$\n",
    "f(4) = 16.\n",
    "$$\n",
    "\n",
    "A discrete function can be graphed as a staircase with as many steps as the number of values. This visualization is shown in the next Python block."
   ]
  },
  {
   "cell_type": "code",
   "execution_count": 38,
   "metadata": {},
   "outputs": [
    {
     "data": {
      "text/plain": [
       "Text(0.5,1,'Discrete function')"
      ]
     },
     "execution_count": 38,
     "metadata": {},
     "output_type": "execute_result"
    },
    {
     "data": {
      "image/png": "[encoded data removed]",
      "text/plain": [
       "<Figure size 432x288 with 1 Axes>"
      ]
     },
     "metadata": {
      "needs_background": "light"
     },
     "output_type": "display_data"
    }
   ],
   "source": [
    "def discrete_square(x, N, dx):\n",
    "    for n in range(N):\n",
    "        if n*dx <= x < (n+1)*dx:\n",
    "            return (n*dx)**2\n",
    "\n",
    "N = 5\n",
    "L = 5\n",
    "dx = L/N\n",
    "n_range = range(0,N)\n",
    "x_range = np.linspace(0,L,100*N)\n",
    "\n",
    "f_x = [discrete_square(x, N, dx) for x in x_range]\n",
    "plt.plot(x_range, f_x, c=\"k\")\n",
    "plt.ylim(0,L**2)\n",
    "plt.xlim(0,L)\n",
    "plt.title(\"Discrete function\")"
   ]
  },
  {
   "cell_type": "markdown",
   "metadata": {},
   "source": [
    "### The area under a discrete function: The discrete integral\n"
   ]
  },
  {
   "cell_type": "markdown",
   "metadata": {},
   "source": [
    "It is often interesting to compute the area under a curve. In discrete caclulus, we deal with areas under our steircase \"curves\". The area under our discrete function is shown in blue the following python block:"
   ]
  },
  {
   "cell_type": "code",
   "execution_count": 37,
   "metadata": {},
   "outputs": [
    {
     "data": {
      "text/plain": [
       "Text(0.5,1,'Discrete integral: Area under a discrete function')"
      ]
     },
     "execution_count": 37,
     "metadata": {},
     "output_type": "execute_result"
    },
    {
     "data": {
      "image/png": "[encoded data removed]",
      "text/plain": [
       "<Figure size 432x288 with 1 Axes>"
      ]
     },
     "metadata": {
      "needs_background": "light"
     },
     "output_type": "display_data"
    }
   ],
   "source": [
    "plt.plot(x_range[:-1], f_x[:-1], c=\"k\")\n",
    "plt.fill_between(x_range[:-1], -1, f_x[:-1])\n",
    "plt.ylim(0,L**2)\n",
    "plt.xlim(0,L)\n",
    "plt.title(\"Discrete integral: Area under a discrete function\")"
   ]
  },
  {
   "cell_type": "markdown",
   "metadata": {},
   "source": [
    "We just need some basic geometry to get a formula for the area. As you can see in the graph, the figure can be subdivided into non-overlapping rectangles. therefore, the area under the curve is equal to the sum of the area of all these rectangles:\n",
    "\n",
    "$$\n",
    "A = \\displaystyle\\sum_{n=0}^4 A_n\n",
    "$$\n",
    "\n",
    "where $A_n$ denotes the area of the rectangle with $x$ coordinate ranging from $n$ to $n+1$. The area of the $n-th$ triangle is obtained by multyplying its base with its hight:\n",
    "\n",
    "<p align=\"center\" style=\"text-align: center;\"><img align=\"center\" src=\"https://tex.s2cms.ru/svg/%0AA_n%20%3D%20%5Cdisplaystyle%5Cunderbrace%7Bf(n)%7D_%5Ctext%7Bheight%7D%20%5Ccdot%20%5Cunderbrace%7B%5CDelta%20x%7D_%5Ctext%7Bbase%7D%20%0A\" alt=\"\n",
    "A_n = \\displaystyle\\underbrace{f(n)}_\\text{height} \\cdot \\underbrace{\\Delta x}_\\text{base} \n",
    "\" /></p>\n",
    "\n",
    "where in our current case $\\Delta x$ is equal to $1$.\n",
    "\n",
    "Therefore, the formula for the area is:\n",
    "\n",
    "$$\n",
    "A = \\displaystyle\\sum_{n=0}^4 f(n) \\Delta x\n",
    "$$\n",
    "\n",
    "We call this formula the DISCRETE INTEGRAL of the function.\n",
    "\n",
    "The following block of python code computes the discrete integral of the function:"
   ]
  },
  {
   "cell_type": "code",
   "execution_count": 39,
   "metadata": {},
   "outputs": [
    {
     "name": "stdout",
     "output_type": "stream",
     "text": [
      "the value of the discrete integral is: 30\n"
     ]
    }
   ],
   "source": [
    "Dx = 1\n",
    "range_n = range(5)\n",
    "f = lambda n: n**2\n",
    "\n",
    "def discrete_integral(f, range_n, Dx):\n",
    "    return sum([f(n)*Dx for n in range_n])\n",
    "\n",
    "print(\"the value of the discrete integral is: {}\".format(discrete_integral(f, range_n, Dx)))"
   ]
  },
  {
   "cell_type": "markdown",
   "metadata": {},
   "source": [
    "### Finite differences\n",
    "\n",
    "Calculus is the study of change. In the case of discrete caclulus, we can characterize changes in a discrete functions using finite differences. As we saw in the previous section, we denote a finite difference in the $x$ coordinate as $ \\Delta x $.\n",
    "\n",
    "Similarly, we denote $\\Delta f(x_n)$ as the difference between $f(n+1)$ and $f(n)$. We can wrete this as follows:\n",
    "\n",
    "$$\n",
    "\\Delta f(x_n) = f(x_n + \\Delta x) - f(x_n)\n",
    "$$\n",
    "\n",
    "where $x_n$ is the $x$ coordinate equal to $n \\cdot \\Delta x$ (which is equal to $n$ in our case as $\\Delta x$ is equal to 1.).\n",
    "\n",
    "#### Example\n",
    "\n",
    "Consider the finite difference of the function:\n",
    "\n",
    "$$\n",
    "f(x_n) = x_n^2\n",
    "$$\n",
    "\n",
    "Using the definition:\n",
    "\n",
    "$$\n",
    "\\Delta f(x_n) = f(x_n + \\Delta x) - f(x_n)\n",
    "$$\n",
    "\n",
    "We know that $x_n = n \\Delta x$, therefore:\n",
    "\n",
    "$$\n",
    "\\begin{aligned}\n",
    "\\Delta f(x_n) &= f((n+1) \\Delta x) - f(x_n) = (n+1)^2 (\\Delta x)^2 - (\\Delta x)^2 n^2 \\\\\n",
    "              &= (n^2 + 2n + 1) (\\Delta x)^2 - (\\Delta x)^2 n^2 \\\\\n",
    "              &= (2n + 1) (\\Delta x)^2\n",
    "\\end{aligned}\n",
    "$$\n",
    "\n",
    "### Exercises\n",
    "#### 0.1\n",
    "\n",
    "Compute the finite differences of the following discrete functions defined for the integers $0, 1, 2, 3, 4$:\n",
    "\n",
    "**a)** $f_1(x_n) = x_n$\n",
    "\n",
    "**b)** $f_2(x_n) = 3 x_n^3$\n",
    "\n",
    "**c)** $f_3(x_n) = 2 x_n^2 + 4 x_n$\n",
    "\n",
    "**d)** (Hard) Find a general formula for the finite differences of a function of the following form:\n",
    "$$\n",
    "f(x_n) = a \\cdot x_n^k\n",
    "$$\n",
    "where both $a$ and $k$ are positive integers.\n",
    "\n",
    "#### Product rule for finite differences\n",
    "we can now derive a product rule for finite differences. The goal is to have a formula relating the finite differences of two discrete function $f(x_n)$ and $g(x_n)$ and the funite difference of their product $f(x_n) \\cdot g(x_n)$. We can derive this formula by writing down the definituion of the finite difference of the product and using the definitions again individually for $f$ and $g$:\n",
    "\n",
    "\\begin{aligned}\n",
    "    \\Delta(f(x_n) g(x_n)) &= \\color{blue}{f(x_n + \\Delta x)} \\color{red}{g(x_n + \\Delta x)} - f(x_n)g(x_n) \\\\\n",
    "                          &= \\color{blue}{\\left( f(x_n) + \\Delta f(x_n) \\right)} \\color{red}{\\left( g(x_n) + \\Delta g(x_n) \\right)} - f(x_n)g(x_n) \\\\\n",
    "                          &= f(x_n) \\Delta g(x_n) + g(x_n) \\Delta f(x_n) + \\Delta f(x_n) \\Delta g(x_n)\n",
    "\\end{aligned}\n",
    "\n",
    "#### Example\n",
    "\n",
    "the function:\n",
    "\n",
    "$$\n",
    "f_p(n) = n^2\n",
    "$$\n",
    "\n",
    "is the product of $f(n) = n$ with itself. Therefore:\n",
    "\n",
    "$$\n",
    "\\begin{aligned}\n",
    "\\Delta f_p(x_n) &= \\Delta (f(x_n) f(x_n) ) \\\\\n",
    "                &= f(x_n) \\Delta f(x_n) + f(x_n) \\Delta f(x_n) + (\\Delta f(x_n))(\\Delta f(x_n))\n",
    "                &= 2 f(x_n) \\Delta f(x_n) + (\\Delta f(x_n))^2 \\\\\n",
    "                &= 2 (\\Delta x_n) (\\Delta x n) + (\\Delta x )^2 \\\\\n",
    "                & = (\\Delta x)^2 (2 n + 1)\n",
    "\\end{aligned}\n",
    "$$\n",
    "\n",
    "since $\\Delta f(x_n) = \\Delta x$.\n",
    "\n",
    "### Exercises\n",
    "#### 0.2\n",
    "Compute the discrete derivative of $f(n) = n^3$ using the product rule.\n",
    "\n",
    "### The discrete derivative\n",
    "\n",
    "The discrete derivative capture the \"discrete rate of change\" of a discrete function. It is defined as the ration between its finite difference and the finite difference in the $x$ coordinates:\n",
    "\n",
    "$$\n",
    "\\dfrac{\\Delta f}{\\Delta x} = \\dfrac{f(x_n + \\Delta x) - f(x_n)}{\\Delta x}\n",
    "$$\n",
    "\n",
    "#### Example\n",
    "\n",
    "the product rule for the discrete function $f(x_n) = x_n^2$ can be obtained simply by deviding its finite difference by $\\Delta x$:\n",
    "\n",
    "$$\n",
    "\\dfrac{\\Delta x_n^2}{\\Delta x} = \\dfrac{(\\Delta x)^2 (2n + 1)}{\\Delta x} = (2n + 1) \\Delta x\n",
    "$$\n",
    "\n",
    "### Exercises\n",
    "#### 0.3\n",
    "Compute the discrete derivatives of the following discrete functions:\n",
    "\n",
    "**a)** $f_1(x_n) = 3 x_n$\n",
    "\n",
    "**b)** $f_2(x_n) = 2 x_n^2 + x_n^3$\n",
    "\n",
    "**c)** $f_3(x_n) = 2 x_n^2 + 4 x_n$\n",
    "\n",
    "#### Product rule for discrete derivatives\n",
    "\n",
    "The product rule for discrete derivatives can be obtained by deviding the product rule for finite differences by $\\Delta x$:\n",
    "\n",
    "$$\n",
    "\\begin{aligned}\n",
    "\\dfrac{\\Delta (f(x_n) \\cdot g(x_n))}{\\Delta x} &= \\dfrac{f(x_n) \\Delta g(x_n) + g(x_n) \\Delta f(x_n) + (\\Delta f(x_n)) (\\Delta g(x_n))}{{\\Delta x}} \\\\\n",
    "&= f(x_n) \\dfrac{\\Delta g(x_n)}{\\Delta x} + g(x_n) \\dfrac{\\Delta f(x_n)}{\\Delta x} + \\dfrac{\\Delta f(x_n)}{\\Delta x} \\dfrac{\\Delta g(x_n)}{\\Delta x} \\Delta x\n",
    "\\end{aligned}\n",
    "$$\n",
    "\n",
    "note that if we reduce the spacing between the discrete points so that $\\Delta x \\approx 0$, then the product rule can be approximated as follows:\n",
    "\n",
    "$$\n",
    "\\dfrac{\\Delta (f(x_n) \\cdot g(x_n))}{\\Delta x} \\approx f(x_n) \\dfrac{\\Delta g(x_n)}{\\Delta x} + g(x_n) \\dfrac{\\Delta f(x_n)}{\\Delta x}\n",
    "$$\n",
    "\n",
    "since the last term becomes smaller and smaller.\n",
    "\n",
    "### The discrete integral\n",
    "\n",
    "As we explained in the previous section, we can define discrete integrals as follows:\n",
    "\n",
    "$$\n",
    "\\displaystyle\\sum_{n=0}^N f(x_n) \\Delta x\n",
    "$$\n",
    "\n",
    "We can also take the discrete integral of a discrete function $f(x_n)$ with respect to the finite difference of another discrete function $g(x_n)$:\n",
    "\n",
    "$$\n",
    "\\displaystyle\\sum_{n=0}^N f(x_n) \\Delta g(x_n) = \\displaystyle\\sum_{n=0}^N f(x_n) (g(x_{n + 1}) - g(x_n))\n",
    "$$\n",
    "\n",
    "the previous definition is a special case of this with $g(x_n) = x_n$ (Exercise: derive this!).\n",
    "\n",
    "#### Discrete integral of a finite difference\n",
    "Consider the following discrete integral:\n",
    "\n",
    "$$\n",
    "\\displaystyle\\sum_{n=0}^N \\Delta g(x_n) = \\sum_{n=0}^N (g(x_{n + 1}) - g(x_n))\n",
    "$$\n",
    "\n",
    "this sum has a very nice property. it is called telescopic sum, its terms with plus and minus sign pair up exactly so that only the first and the last survive!\n",
    "\n",
    "$$\n",
    "\\begin{aligned}\n",
    "\\displaystyle\\sum_{n=0}^N (g(x_{n + 1}) - g(x_n)) &= (\\color{red}{g(x_1)} - g(x_0)) + (\\color{green}{g(x_2)} \\color{red}{- g(x_1)}) + (\\color{blue}{g(x_3)} \\color{green}{- g(x_2)}) + \\ldots + (g(x_N) - \\color{purple}{g(x_{N-1})})\\\\\n",
    "&= -g(x_0) + (\\color{red}{g(x_1) - g(x_1)}) + \\ldots + (\\color{purple}{g(x_{N-1}) - g(x_{N-1})}) + g(x_N)\\\\\n",
    "&= -g(x_0) + \\color{red}{0} + \\ldots + \\color{purple}{0} + g(x_N)\\\\\n",
    "&= g(x_N) - g(x_0)\n",
    "\\end{aligned}\n",
    "$$\n",
    "\n",
    "Therefore:\n",
    "\n",
    "$$\n",
    "\\displaystyle\\sum_{n=0}^N \\Delta g(x_n) = g(x_N) - g(x_0)\n",
    "$$\n",
    "\n",
    "In words, the integral of a finite difference is equal of the total difference of its function.\n",
    "\n",
    "### Connecting discrete integrals and discrete derivatives: The foundamental theorem of discrete calculus\n",
    "\n",
    "the foundamental theorem of discrete caclulus connects discrete derivatives and discrete integrals. Consider the following integral of a discrete derivative:\n",
    "\n",
    "$$\n",
    "\\displaystyle\\sum_{n=0}^N \\dfrac{\\Delta f}{\\Delta x} \\Delta x\n",
    "$$\n",
    "\n",
    "It is easy to simplify this expression and obtain:\n",
    "\n",
    "$$\n",
    "\\displaystyle\\sum_{n=0}^N \\dfrac{\\Delta f}{\\Delta x} \\Delta x = \\displaystyle\\sum_{n=0}^N \\Delta f(x_n) = f(x_N) - f(x_0)\n",
    "$$\n",
    "\n",
    "Therefore:\n",
    "\n",
    "$$\n",
    "\\displaystyle\\sum_{n=0}^N \\dfrac{\\Delta f}{\\Delta x} \\Delta x = f(x_N) - f(x_0)\n",
    "$$\n",
    "\n",
    "This is the foundamental theorem of discrete caclulus. It is a very nice result since, if $N$ is very large, computing the left hand side requires a lot of computation while the right hand side is just the subtraction of two terms.\n",
    "\n",
    "#### Example\n",
    "\n",
    "proving the foundamental theorem of discrete caclulus is almost trivial. However, it offers a very powerful method for computing big sums.\n",
    "\n",
    "Consider the sum of the first $N$ integers:\n",
    "\n",
    "$$\n",
    "\\displaystyle\\sum_{n=0}^N n = 0 + 1 + 2 + \\ldots + N\n",
    "$$\n",
    "\n",
    "This sum can be written as the following discrete integral:\n",
    "\n",
    "$$\n",
    "\\dfrac{1}{{\\Delta x}^2}\\sum_{n=0}^N f(x_n) \\Delta x\n",
    "$$\n",
    "\n",
    "where:\n",
    "\n",
    "$$\n",
    "f(x_n) = x_n = n \\cdot \\Delta x\n",
    "$$\n",
    "\n",
    "we need to finnd another discrete function $F(x_n)$ such that:\n",
    "\n",
    "$$\n",
    "\\dfrac{\\Delta F(x_n)}{\\Delta x} = f(x_n)\n",
    "$$\n",
    "\n",
    "in fact, using this function we can use the foundamental theorem and obtain a formula for our sum:\n",
    "\n",
    "$$\n",
    "\\displaystyle\\sum_{n=0}^N n = \\dfrac{1}{{\\Delta x}^2}  \\displaystyle\\sum_{n=0}^N f(x_n) = \\dfrac{1}{{\\Delta x}^2} (F(x_N) - F(x_0))\n",
    "$$\n",
    "\n",
    "$$\n",
    "F(x_n) = \\dfrac{1}{2} (x_n^2 - x_n) \\Delta x\n",
    "$$\n",
    "\n",
    "$$\n",
    "\\dfrac{\\Delta F(x_n)}{\\Delta x} = n \\Delta x = x_n\n",
    "$$\n",
    "\n",
    "$$\n",
    "\\displaystyle\\sum_{n=0}^N n = \\dfrac{1}{{\\Delta x}^2} F(x_N) = \\dfrac{1}{{\\Delta x}^2} \\dfrac{1}{2}((N \\Delta x)^2 - N (\\Delta x)(\\Delta x)) = \\dfrac{N^2 - N}{2} = \\dfrac{N(N - 1)}{2}\n",
    "$$"
   ]
  },
  {
   "cell_type": "markdown",
   "metadata": {},
   "source": [
    "## Calculus in the wrong way\n",
    "\n",
    "<img src=\"https://compote.slate.com/images/0bfe6ee8-301b-4a0c-a95e-4dd63648f362.jpg\" alt=\"drawing\" width=\"200\"/>\n",
    "\n",
    "Can we extend the procedures of discrete calculus to functions that do not vary in discrete steps? A possible way is to consider a smoothly varying function $f$ as composed of infinitly many infinitesimally small steps. This line of reasoning is \"wrong\" as it does not easily lead to a rigurous definition of Calculus. however, this procedure is what the founders of caclulus had in mind when it was first invented by Newton and Leibniz. \n",
    "\n",
    "The infinitesimally small steps are shown in the following figure representing the graph of the square function:"
   ]
  },
  {
   "cell_type": "code",
   "execution_count": 64,
   "metadata": {},
   "outputs": [
    {
     "data": {
      "text/plain": [
       "(0, 1)"
      ]
     },
     "execution_count": 64,
     "metadata": {},
     "output_type": "execute_result"
    },
    {
     "data": {
      "image/png": "[encoded data removed]",
      "text/plain": [
       "<Figure size 432x288 with 1 Axes>"
      ]
     },
     "metadata": {
      "needs_background": "light"
     },
     "output_type": "display_data"
    }
   ],
   "source": [
    "f = lambda x: x**2\n",
    "\n",
    "x_range = np.linspace(0,1,300)\n",
    "\n",
    "x1 = 0.2\n",
    "x2 = 0.5\n",
    "x3 = 0.9\n",
    "\n",
    "\n",
    "plt.axvline(x=x1, ymin=0., ymax=f(x1), c=\"k\")\n",
    "plt.axvline(x=x2, ymin=0., ymax=f(x2), c=\"k\")\n",
    "plt.axvline(x=x3, ymin=0., ymax=f(x3), c=\"k\")\n",
    "plt.plot(x_range, f(x_range))\n",
    "plt.ylim(0,1)"
   ]
  },
  {
   "cell_type": "markdown",
   "metadata": {},
   "source": [
    "We denote a infinitesimally small difference in the $x$ coordinate as $dx$. using this, we can define a infinitesimally small change in the function $f(x)$ like with did for discrete functions:\n",
    "\n",
    "$$\n",
    "f(x + dx) = f(x) + df(x)\n",
    "$$\n",
    "\n",
    "The infinitesimal quantity $df(x)$ is called differential and it is the equivalent of finite differences for smoothly varying functions. \n",
    "\n",
    "### Product rule for differentials\n",
    "\n",
    "We can derive the product rule for differentials in the same way we did for finite differences:\n",
    "\n",
    "\\begin{aligned}\n",
    "    d(f(x) g(x)) &= \\color{blue}{f(x + dx)} \\color{red}{g(x + dx)} - f(x)g(x) \\\\\n",
    "                          &= \\color{blue}{\\left( f(x) + df(x) \\right)} \\color{red}{\\left( g(x) + dg(x) \\right)} - f(x)g(x) \\\\\n",
    "                          &= f(x) dg(x) + g(x) df(x) + df(x) dg(x)\n",
    "\\end{aligned}\n",
    "\n",
    "However, in the case of differentials this expression can be further simplified.\n",
    "\n",
    "Consider a very small number $a$, then its square $a^2$ is much smaller than $a$ and $a = a^2 \\approx a$. \n",
    "\n",
    "For example:\n",
    "\n",
    "$$\n",
    "0.0001 + 0.0001^2 = 0.000100001 \\approx 0.0001\n",
    "$$\n",
    "\n",
    "We defined the differential $dx$ to be infinitesimally small, therefore we can guess that its  square $(dx)^2$ is infinitly smaller than $dx$ so that adding it does not change anything:\n",
    "\n",
    "$$\n",
    "dx + dx^2 = dx\n",
    "$$\n",
    "\n",
    "The product term $df(x) dg(x)$ in our product rule is the product of two infinitesimals and it therefore behave as the square of a infinitesimal. Therefore, we can completely neglect this term in our expression. The final result is:\n",
    "\n",
    "\n",
    "<p align=\"center\" style=\"text-align: center;\"><img align=\"center\" src=\"https://tex.s2cms.ru/svg/%0A%5Cbegin%7Baligned%7D%0Ad(f(x)%20g(x))%20%26%3D%20f(x)%20dg(x)%20%2B%20g(x)%20df(x)%20%2B%20%5Cunderbrace%7Bdf(x)%20dg(x)%7D_%5Ctext%7BInfinitly%20smaller%20than%20the%20other%20terms%7D%20%5C%5C%0A%20%20%20%20%20%20%20%20%20%20%20%20%20%26%3D%20f(x)%20dg(x)%20%2B%20g(x)%20df(x)%0A%5Cend%7Baligned%7D%0A\" alt=\"\n",
    "\\begin{aligned}\n",
    "d(f(x) g(x)) &amp;= f(x) dg(x) + g(x) df(x) + \\underbrace{df(x) dg(x)}_\\text{Infinitly smaller than the other terms} \\\\\n",
    "             &amp;= f(x) dg(x) + g(x) df(x)\n",
    "\\end{aligned}\n",
    "\" /></p>\n",
    "\n",
    "\n",
    "\n",
    "this is the famous Leibniz rule of calculus. while this derivation using infinitesimals is not rigouros, the rule is correct and it is one of the most important formula of calculus. "
   ]
  },
  {
   "cell_type": "markdown",
   "metadata": {},
   "source": [
    "### Derivatives\n",
    "\n",
    "The derivative is the infinitasimal rate of change of a function. It can be defined as the ratio of two differentials:\n",
    "\n",
    "$$\n",
    "\\dfrac{df(x)}{dx}\n",
    "$$\n",
    "\n",
    "Note that the ratio of two infinitly small quantities is not infinitesimal. For example:\n",
    "\n",
    "$$\n",
    "\\dfrac{2 dx}{dx} = 2 \\dfrac{dx}{dx} = 2\n",
    "$$\n",
    "\n",
    "#### Example\n",
    "\n",
    "Consider the function:\n",
    "\n",
    "$$\n",
    "f(x) = x^2\n",
    "$$\n",
    "\n",
    "$$\n",
    "\\dfrac{df(x)}{dx} = \\dfrac{(x+dx)^2 - x^2}{dx} = \\dfrac{x^2 + 2xdx + (dx)^2 - x^2}{dx} = \\dfrac{2 x dx}{dx} = 2 x\n",
    "$$\n",
    "\n",
    "### Exercises\n",
    "#### 0.4\n",
    "\n",
    "Compute the derivative of the following functions:\n",
    "\n",
    "**a)** $f_1(x) = 2 x^2 + x$\n",
    "\n",
    "**b)** $f_2(x) = x^3$\n",
    "\n",
    "#### Product rule for derivatives\n",
    "The product rule for the derivative can be obtained by deviding the product rule for the differentials by $dx$:\n",
    "\n",
    "$$\n",
    "\\begin{aligned}\n",
    "\\dfrac{d(f(x) g(x))}{dx} = f(x) \\dfrac{dg(x)}{dx} + g(x) \\dfrac{df(x)}{dx}\n",
    "\\end{aligned}\n",
    "$$\n",
    "\n",
    "### Integrals\n",
    "\n",
    "The integral of a function $f$ is the area under the curve enclosed by the graph of the function and the $x$ axis:"
   ]
  },
  {
   "cell_type": "code",
   "execution_count": 63,
   "metadata": {},
   "outputs": [
    {
     "data": {
      "text/plain": [
       "(0, 1)"
      ]
     },
     "execution_count": 63,
     "metadata": {},
     "output_type": "execute_result"
    },
    {
     "data": {
      "image/png": "[encoded data removed]",
      "text/plain": [
       "<Figure size 432x288 with 1 Axes>"
      ]
     },
     "metadata": {
      "needs_background": "light"
     },
     "output_type": "display_data"
    }
   ],
   "source": [
    "f = lambda x: x**2\n",
    "\n",
    "x_range = np.linspace(0,1,300)\n",
    "\n",
    "x1 = 0.2\n",
    "x2 = 0.5\n",
    "x3 = 0.9\n",
    "\n",
    "\n",
    "plt.plot(x_range, f(x_range), c=\"k\")\n",
    "plt.fill_between(x_range, 0, f(x_range))\n",
    "plt.ylim(0,1)\n",
    "plt.xlim(0,1)"
   ]
  },
  {
   "cell_type": "markdown",
   "metadata": {},
   "source": [
    "Each infinitesmal rectangle has a area of:\n",
    "\n",
    "$$\n",
    "f(x) dx\n",
    "$$\n",
    "\n",
    "Therefore, the total area of under the function from the starting point $a$ to the end point $b$ is:\n",
    "\n",
    "$$\n",
    "\\displaystyle\\sum_{a \\leq x \\leq b} f(x) dx\n",
    "$$\n",
    "\n",
    "This is a strange kind of sum as we are summing infinitly many terms that are infinitesimally close together. \n",
    "\n",
    "### Connecting integrals and derivatives: The foundamental theorem of calculus\n",
    "\n",
    "$$\n",
    "\\displaystyle\\sum_{a \\leq x \\leq b} \\dfrac{df(x)}{dx} dx = \\displaystyle\\sum_{a \\leq x \\leq b} df(x) = f(b) - f(a)\n",
    "$$"
   ]
  }
 ],
 "metadata": {
  "kernelspec": {
   "display_name": "Python 3",
   "language": "python",
   "name": "python3"
  },
  "language_info": {
   "codemirror_mode": {
    "name": "ipython",
    "version": 3
   },
   "file_extension": ".py",
   "mimetype": "text/x-python",
   "name": "python",
   "nbconvert_exporter": "python",
   "pygments_lexer": "ipython3",
   "version": "3.6.7"
  }
 },
 "nbformat": 4,
 "nbformat_minor": 2
}
