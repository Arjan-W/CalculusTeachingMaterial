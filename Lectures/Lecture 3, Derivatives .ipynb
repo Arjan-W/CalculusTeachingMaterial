{
 "cells": [
  {
   "cell_type": "code",
   "execution_count": 2,
   "metadata": {},
   "outputs": [],
   "source": [
    "import matplotlib.pyplot as plt\n",
    "import numpy as np"
   ]
  },
  {
   "cell_type": "markdown",
   "metadata": {},
   "source": [
    "## Finite differences and discrete rate of change\n",
    "\n",
    "### Finite difference\n",
    "$$\n",
    "\\Delta f(x) = f(x+\\Delta x) - f(x)\n",
    "$$\n",
    "\n",
    "$$\n",
    "f(x+\\Delta x) = f(x) + \\Delta f(x)\n",
    "$$\n",
    "\n",
    "### Rate of change\n",
    "\n",
    "$$\n",
    "\\frac{\\Delta f(x)}{\\Delta x} = \\frac{f(x+\\Delta x) - f(x)}{\\Delta x}\n",
    "$$"
   ]
  },
  {
   "cell_type": "markdown",
   "metadata": {},
   "source": [
    "<img src=\"https://www.math.hmc.edu/calculus/tutorials/limit_definition/gif/figure1.gif\" alt=\"drawing\" width=\"400\"/>    "
   ]
  },
  {
   "cell_type": "markdown",
   "metadata": {},
   "source": [
    "### Derivative as the limit of discrete rate of change\n",
    "\n",
    "$$\n",
    "\\frac{d f(x)}{d x} = \\lim_{\\Delta x \\rightarrow 0} \\frac{\\Delta f(x)}{\\Delta x} = \\lim_{\\Delta x \\rightarrow 0} \\frac{f(x+\\Delta x) - f(x)}{\\Delta x}\n",
    "$$"
   ]
  },
  {
   "cell_type": "markdown",
   "metadata": {},
   "source": [
    "### Derivative as best local linear approximation\n",
    "\n",
    "$$\n",
    "f(x) \\approx f(x_0) + \\frac{df(x_0)}{dx} (x - x_0)\n",
    "$$"
   ]
  },
  {
   "cell_type": "code",
   "execution_count": 23,
   "metadata": {},
   "outputs": [
    {
     "data": {
      "text/plain": [
       "<matplotlib.legend.Legend at 0x7fab3bd38dd8>"
      ]
     },
     "execution_count": 23,
     "metadata": {},
     "output_type": "execute_result"
    },
    {
     "data": {
      "image/png": "[encoded data removed]",
      "text/plain": [
       "<Figure size 432x288 with 1 Axes>"
      ]
     },
     "metadata": {
      "needs_background": "light"
     },
     "output_type": "display_data"
    }
   ],
   "source": [
    "f = lambda x: x**2\n",
    "df = lambda x: 2*x\n",
    "fl = lambda x, x0: f(x0) + df(x0)*(x - x0)\n",
    "\n",
    "x_range = np.linspace(0,1.5, 100)\n",
    "x0 = 0.7\n",
    "\n",
    "plt.axvline(x0, label=\"x_0\", ls = \"--\", c=\"k\")\n",
    "plt.plot(x_range, f(x_range), label = \"f(x)\")\n",
    "plt.plot(x_range, fl(x_range,x0), label = \"Best linear approximation around x_0\")\n",
    "plt.legend(loc=\"upper left\")"
   ]
  },
  {
   "cell_type": "markdown",
   "metadata": {},
   "source": [
    "### Derivative in geometry: Slope of the tangent line\n",
    "\n",
    "<img src=\"https://i.stack.imgur.com/5ezQF.png\" alt=\"drawing\" width=\"400\"/> "
   ]
  },
  {
   "cell_type": "markdown",
   "metadata": {},
   "source": [
    "### Derivative in physics: Instantaneous velocity"
   ]
  },
  {
   "cell_type": "code",
   "execution_count": null,
   "metadata": {},
   "outputs": [],
   "source": [
    "## Derivatives of important functions\n",
    "\n",
    "-Constant\n",
    "-Linear\n",
    "-Square\n",
    "-Power\n",
    "-Exponential\n",
    "-Sine \n",
    "-Cosine"
   ]
  },
  {
   "cell_type": "markdown",
   "metadata": {},
   "source": [
    "## Linearity of the derivative"
   ]
  },
  {
   "cell_type": "markdown",
   "metadata": {},
   "source": [
    "## The product rule of differentiation\n",
    "\n",
    "$$\n",
    "\\frac{d \\left(f(x) g(x)\\right)}{d x} = f(x) \\frac{d g(x)}{d x} + g(x) \\frac{d f(x)}{d x}\n",
    "$$\n",
    "\n",
    "### Proof\n",
    "\n",
    "$$\n",
    "\\frac{d \\left(f(x) g(x)\\right)}{d x} = \\lim_{\\Delta x \\rightarrow 0} \\frac{f(x+\\Delta x)g(x + \\Delta x) - f(x) g(x)}{\\Delta x}\n",
    "$$\n",
    "\n",
    "$$\n",
    "f(x + \\Delta x) = f(x) + \\Delta f(x)\n",
    "$$\n",
    "\n",
    "$$\n",
    "\\lim_{\\Delta x \\rightarrow 0} \\frac{\\left(f(x) + \\Delta f(x)\\right)\\left(g(x) + \\Delta g(x)\\right) - f(x) g(x)}{\\Delta x} = \\lim_{\\Delta x \\rightarrow 0} \\left(f(x) \\frac{\\Delta g(x)}{\\Delta x} + g(x) \\frac{\\Delta f(x)}{\\Delta x} + \\Delta f(x) \\frac{\\Delta g(x)}{\\Delta x} \\right)\n",
    "$$\n",
    "\n",
    "$$\n",
    "$$\n",
    "\n",
    "$$\n",
    "$$\n",
    "\n"
   ]
  },
  {
   "cell_type": "markdown",
   "metadata": {},
   "source": [
    "## Functional composition and the chain rule"
   ]
  },
  {
   "cell_type": "markdown",
   "metadata": {},
   "source": [
    "## Derivative of the inverse function"
   ]
  }
 ],
 "metadata": {
  "kernelspec": {
   "display_name": "Python 3",
   "language": "python",
   "name": "python3"
  },
  "language_info": {
   "codemirror_mode": {
    "name": "ipython",
    "version": 3
   },
   "file_extension": ".py",
   "mimetype": "text/x-python",
   "name": "python",
   "nbconvert_exporter": "python",
   "pygments_lexer": "ipython3",
   "version": "3.7.0"
  }
 },
 "nbformat": 4,
 "nbformat_minor": 2
}
